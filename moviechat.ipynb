{
 "cells": [
  {
   "cell_type": "markdown",
   "id": "547b2e76-ca81-4af3-b7b5-be9b71c5657f",
   "metadata": {},
   "source": [
    "<h2>Imports</h2>"
   ]
  },
  {
   "cell_type": "code",
   "execution_count": 1,
   "id": "b28db960-eaf7-4621-87ce-379476655879",
   "metadata": {},
   "outputs": [
    {
     "name": "stderr",
     "output_type": "stream",
     "text": [
      "/Users/darylramdin/opt/anaconda3/lib/python3.9/site-packages/tqdm/auto.py:22: TqdmWarning: IProgress not found. Please update jupyter and ipywidgets. See https://ipywidgets.readthedocs.io/en/stable/user_install.html\n",
      "  from .autonotebook import tqdm as notebook_tqdm\n"
     ]
    }
   ],
   "source": [
    "import os\n",
    "import numpy as np\n",
    "import torch\n",
    "from collections import namedtuple\n",
    "import csv\n",
    "import re\n",
    "from corpus import CornellMovieCorpus, Vocabulary\n",
    "from rnn import Encoder, Decoder\n",
    "from torch import optim\n",
    "import torch.nn as nn\n",
    "from matplotlib import pyplot as plt\n",
    "from datetime import datetime\n",
    "import random"
   ]
  },
  {
   "cell_type": "markdown",
   "id": "8b536192-9da1-44a0-8f42-543ed4229f07",
   "metadata": {},
   "source": [
    "<h2>Use the GPU if present</h2>"
   ]
  },
  {
   "cell_type": "code",
   "execution_count": 2,
   "id": "cadd0113-1b64-487c-a2ee-6d2ed50c1bf0",
   "metadata": {},
   "outputs": [
    {
     "name": "stdout",
     "output_type": "stream",
     "text": [
      "mps\n"
     ]
    }
   ],
   "source": [
    "#Let's do the GPU stuff\n",
    "device = torch.device('mps')\n",
    "if (torch.cuda.is_available()):\n",
    "   device = torch.device('cuda')\n",
    "print(device)"
   ]
  },
  {
   "cell_type": "markdown",
   "id": "8eefd147-e96b-4aa0-922f-ca1cb8a51824",
   "metadata": {},
   "source": [
    "<h2>Create a Cornell Movie Corpus </h2>"
   ]
  },
  {
   "cell_type": "code",
   "execution_count": 3,
   "id": "5c057d9c-517b-4e05-8236-b812729d0629",
   "metadata": {},
   "outputs": [
    {
     "name": "stdout",
     "output_type": "stream",
     "text": [
      "Loading movie lines...\n",
      "Converting conversation line numbers to text...\n",
      "Creating exchange pairs\n"
     ]
    }
   ],
   "source": [
    "corpus = CornellMovieCorpus()"
   ]
  },
  {
   "cell_type": "markdown",
   "id": "7bdee165-0686-4d27-ae09-10a55d8010fc",
   "metadata": {},
   "source": [
    "<h2>Let's look at some data</h2>"
   ]
  },
  {
   "cell_type": "code",
   "execution_count": 4,
   "id": "3dc7982e-be6e-44cc-b844-af30a8872892",
   "metadata": {},
   "outputs": [
    {
     "name": "stdout",
     "output_type": "stream",
     "text": [
      "Lines\n",
      "\n",
      "('L1045', {'original_text': 'They do not!\\n', 'prepped_text': 'they do not'})\n",
      "('L1044', {'original_text': 'They do to!\\n', 'prepped_text': 'they do to'})\n",
      "('L985', {'original_text': 'I hope so.\\n', 'prepped_text': 'i hope so'})\n",
      "('L984', {'original_text': 'She okay?\\n', 'prepped_text': 'she okay'})\n",
      "('L925', {'original_text': \"Let's go.\\n\", 'prepped_text': 'let s go'})\n",
      "\n",
      "Conversations\n",
      "\n",
      "['u0', 'u2', 'm0', \"['L194', 'L195', 'L196', 'L197']\"]\n",
      "['u0', 'u2', 'm0', \"['L198', 'L199']\"]\n",
      "['u0', 'u2', 'm0', \"['L200', 'L201', 'L202', 'L203']\"]\n",
      "['u0', 'u2', 'm0', \"['L204', 'L205', 'L206']\"]\n",
      "['u0', 'u2', 'm0', \"['L207', 'L208']\"]\n",
      "\n",
      "Exchanges\n",
      "\n",
      "('can we make this quick roxanne korrine and andrew barrett are having an incredibly horrendous public break up on the quad again', 'well i thought we d start with pronunciation if that s okay with you')\n",
      "('well i thought we d start with pronunciation if that s okay with you', 'not the hacking and gagging and spitting part please')\n",
      "('not the hacking and gagging and spitting part please', 'okay then how bout we try out some french cuisine saturday night')\n",
      "('you re asking me out that s so cute what s your name again', 'forget it')\n",
      "('no no it s my fault we didn t have a proper introduction', 'cameron')\n"
     ]
    }
   ],
   "source": [
    "lines = list(corpus.movie_lines.items())\n",
    "print(\"Lines\\n\")\n",
    "for i in range(5):\n",
    "    print(lines[i])\n",
    "\n",
    "print(\"\\nConversations\\n\")\n",
    "for i in range(5):\n",
    "    print(corpus.movie_convos[i])\n",
    "\n",
    "print(\"\\nExchanges\\n\")\n",
    "for i in range(5):\n",
    "    print(corpus.exchange_pairs[i])"
   ]
  },
  {
   "cell_type": "markdown",
   "id": "c70c60ba-6b27-4312-b169-13e186ece9a7",
   "metadata": {},
   "source": [
    "<h2>Create the vocabulary</h2>"
   ]
  },
  {
   "cell_type": "code",
   "execution_count": 5,
   "id": "41a0ab0d-7fd8-462b-aed4-bcc07a84ad42",
   "metadata": {
    "tags": []
   },
   "outputs": [
    {
     "name": "stdout",
     "output_type": "stream",
     "text": [
      "('<pad>', {'index': 0, 'count': 1})\n",
      "('<sos>', {'index': 1, 'count': 1})\n",
      "('<eos>', {'index': 2, 'count': 1})\n",
      "('they', {'index': 3, 'count': 16996})\n",
      "('do', {'index': 4, 'count': 22791})\n",
      "('not', {'index': 5, 'count': 19555})\n",
      "('to', {'index': 6, 'count': 80773})\n",
      "('i', {'index': 7, 'count': 142514})\n",
      "('hope', {'index': 8, 'count': 1023})\n",
      "('so', {'index': 9, 'count': 13518})\n"
     ]
    }
   ],
   "source": [
    "corpus.create_vocabulary()\n",
    "lines = list(corpus.vocabulary.vocabulary.items())\n",
    "for i in range(10):\n",
    "    print(lines[i])"
   ]
  },
  {
   "cell_type": "markdown",
   "id": "2fea16e0-7ecc-43dd-bd45-577127d2c424",
   "metadata": {},
   "source": [
    "<h2>Create Encoders and Decoders</h2>"
   ]
  },
  {
   "cell_type": "code",
   "execution_count": 6,
   "id": "76806262-be72-4c3a-8c16-9dad85c1e55a",
   "metadata": {},
   "outputs": [],
   "source": [
    "sizeof_embedding = 256\n",
    "sizeof_vocab = corpus.vocabulary.len\n",
    "\n",
    "encoder = Encoder(sizeof_vocab, sizeof_embedding)\n",
    "decoder = Decoder(sizeof_embedding, sizeof_vocab)\n"
   ]
  },
  {
   "cell_type": "markdown",
   "id": "2a5351b6-6a04-4b55-bde9-1de7cad34fd8",
   "metadata": {},
   "source": [
    "<h2>Let's setup our trainer</h2>"
   ]
  },
  {
   "cell_type": "code",
   "execution_count": 7,
   "id": "365a2fdb-c6fb-4a55-81e0-0ed62e58f8ee",
   "metadata": {},
   "outputs": [
    {
     "name": "stdout",
     "output_type": "stream",
     "text": [
      "Epoch 0 Loss 10.708063761393229 in 0 seconds\n",
      "Epoch 10 Loss 9.252339680989584 in 3 seconds\n",
      "Epoch 20 Loss 2.380751132965088 in 3 seconds\n",
      "Epoch 30 Loss 8.490923563639322 in 2 seconds\n",
      "Epoch 40 Loss 8.025685628255209 in 2 seconds\n",
      "Epoch 50 Loss 6.168494542439778 in 2 seconds\n",
      "Epoch 60 Loss 1.4395154317220051 in 2 seconds\n",
      "Epoch 70 Loss 1.8028071721394856 in 2 seconds\n",
      "Epoch 80 Loss 3.142868995666504 in 2 seconds\n",
      "Epoch 90 Loss 1.3201165199279785 in 2 seconds\n",
      "Epoch 100 Loss 2.7825454076131186 in 2 seconds\n",
      "Epoch 110 Loss 5.445898691813151 in 2 seconds\n",
      "Epoch 120 Loss 5.812182744344075 in 2 seconds\n",
      "Epoch 130 Loss 1.0869491895039876 in 2 seconds\n",
      "Epoch 140 Loss 4.162670771280925 in 2 seconds\n",
      "Epoch 150 Loss 3.945336023966471 in 2 seconds\n",
      "Epoch 160 Loss 2.696675936381022 in 2 seconds\n",
      "Epoch 170 Loss 1.6494299570719402 in 2 seconds\n",
      "Epoch 180 Loss 2.1642394065856934 in 2 seconds\n",
      "Epoch 190 Loss 4.915808995564778 in 2 seconds\n",
      "Epoch 200 Loss 0.5530683994293213 in 2 seconds\n",
      "Epoch 210 Loss 3.0755860010782876 in 2 seconds\n",
      "Epoch 220 Loss 1.4112399419148762 in 2 seconds\n",
      "Epoch 230 Loss 2.269859790802002 in 2 seconds\n",
      "Epoch 240 Loss 5.0184221267700195 in 2 seconds\n",
      "Epoch 250 Loss 4.270896275838216 in 2 seconds\n",
      "Epoch 260 Loss 0.9168116251627604 in 2 seconds\n",
      "Epoch 270 Loss 6.356008529663086 in 2 seconds\n",
      "Epoch 280 Loss 5.2489519119262695 in 2 seconds\n",
      "Epoch 290 Loss 0.2648642659187317 in 2 seconds\n",
      "Epoch 300 Loss 2.8590920766194663 in 2 seconds\n",
      "Epoch 310 Loss 1.4316924413045247 in 2 seconds\n",
      "Epoch 320 Loss 1.3987197875976562 in 2 seconds\n",
      "Epoch 330 Loss 6.929913838704427 in 2 seconds\n",
      "Epoch 340 Loss 1.988837718963623 in 2 seconds\n",
      "Epoch 350 Loss 0.47979803880055744 in 2 seconds\n",
      "Epoch 360 Loss 1.534348964691162 in 2 seconds\n",
      "Epoch 370 Loss 4.800483703613281 in 2 seconds\n",
      "Epoch 380 Loss 0.902300755182902 in 2 seconds\n",
      "Epoch 390 Loss 0.8659654458363851 in 2 seconds\n",
      "Epoch 400 Loss 5.279812494913737 in 3 seconds\n",
      "Epoch 410 Loss 1.2686238288879395 in 3 seconds\n",
      "Epoch 420 Loss 2.412421226501465 in 3 seconds\n",
      "Epoch 430 Loss 1.7898362477620442 in 3 seconds\n",
      "Epoch 440 Loss 2.1213037172953286 in 2 seconds\n",
      "Epoch 450 Loss 2.958346366882324 in 2 seconds\n",
      "Epoch 460 Loss 3.5186284383138022 in 3 seconds\n",
      "Epoch 470 Loss 6.443291346232097 in 3 seconds\n",
      "Epoch 480 Loss 1.1195081075032551 in 2 seconds\n",
      "Epoch 490 Loss 3.432520866394043 in 2 seconds\n",
      "Epoch 500 Loss 1.0229294300079346 in 2 seconds\n",
      "Epoch 510 Loss 3.8983469009399414 in 2 seconds\n",
      "Epoch 520 Loss 1.3042538166046143 in 3 seconds\n",
      "Epoch 530 Loss 0.8423681259155273 in 2 seconds\n",
      "Epoch 540 Loss 5.973990122477214 in 2 seconds\n",
      "Epoch 550 Loss 3.1506354014078775 in 2 seconds\n",
      "Epoch 560 Loss 1.757611592610677 in 2 seconds\n",
      "Epoch 570 Loss 3.0881713231404624 in 2 seconds\n",
      "Epoch 580 Loss 0.8007158438364664 in 2 seconds\n",
      "Epoch 590 Loss 1.5400288899739583 in 2 seconds\n",
      "Epoch 600 Loss 1.671756426493327 in 2 seconds\n",
      "Epoch 610 Loss 2.7262137730916343 in 2 seconds\n",
      "Epoch 620 Loss 3.214318593343099 in 2 seconds\n",
      "Epoch 630 Loss 0.37355971336364746 in 2 seconds\n",
      "Epoch 640 Loss 1.2630491256713867 in 2 seconds\n",
      "Epoch 650 Loss 2.1418086687723794 in 2 seconds\n",
      "Epoch 660 Loss 2.9776131312052407 in 2 seconds\n",
      "Epoch 670 Loss 2.585071404774984 in 2 seconds\n",
      "Epoch 680 Loss 4.540751775105794 in 2 seconds\n",
      "Epoch 690 Loss 3.5468034744262695 in 2 seconds\n",
      "Epoch 700 Loss 3.16007137298584 in 2 seconds\n",
      "Epoch 710 Loss 1.892659028371175 in 2 seconds\n",
      "Epoch 720 Loss 2.2882858912150064 in 2 seconds\n",
      "Epoch 730 Loss 0.8728811740875244 in 2 seconds\n",
      "Epoch 740 Loss 2.868638356526693 in 3 seconds\n",
      "Epoch 750 Loss 2.3611669540405273 in 2 seconds\n",
      "Epoch 760 Loss 0.04922755559285482 in 3 seconds\n",
      "Epoch 770 Loss 0.40078945954640705 in 3 seconds\n",
      "Epoch 780 Loss 1.6512316068013508 in 3 seconds\n",
      "Epoch 790 Loss 2.582528750101725 in 3 seconds\n",
      "Epoch 800 Loss 1.3421212832132976 in 3 seconds\n",
      "Epoch 810 Loss 4.780535697937012 in 2 seconds\n",
      "Epoch 820 Loss 1.2973007361094158 in 3 seconds\n",
      "Epoch 830 Loss 3.2102991739908853 in 3 seconds\n",
      "Epoch 840 Loss 6.459836324055989 in 3 seconds\n",
      "Epoch 850 Loss 1.6795399983723958 in 3 seconds\n",
      "Epoch 860 Loss 0.7618981997172037 in 3 seconds\n",
      "Epoch 870 Loss 1.0780375798543294 in 3 seconds\n",
      "Epoch 880 Loss 2.539621035257975 in 3 seconds\n",
      "Epoch 890 Loss 5.214043617248535 in 3 seconds\n",
      "Epoch 900 Loss 2.5333407719930015 in 3 seconds\n",
      "Epoch 910 Loss 1.2875303427378337 in 3 seconds\n",
      "Epoch 920 Loss 2.435633977254232 in 3 seconds\n",
      "Epoch 930 Loss 3.4474105834960938 in 3 seconds\n",
      "Epoch 940 Loss 0.8512464364369711 in 3 seconds\n",
      "Epoch 950 Loss 3.8007640838623047 in 3 seconds\n",
      "Epoch 960 Loss 2.2654813130696616 in 2 seconds\n",
      "Epoch 970 Loss 2.678341865539551 in 2 seconds\n",
      "Epoch 980 Loss 4.908871014912923 in 2 seconds\n",
      "Epoch 990 Loss 2.9597288767496743 in 2 seconds\n"
     ]
    }
   ],
   "source": [
    "number_of_epochs = 1000\n",
    "print_interval = 10\n",
    "batch_size = 10\n",
    "teacher_forcing = 1\n",
    "teacher_forcing_decay = 1e-03\n",
    "\n",
    "encoder_optimizer = optim.Adam(encoder.parameters(),lr=1e-03)\n",
    "decoder_optimizer = optim.Adam(decoder.parameters(),lr=1e-03)\n",
    "\n",
    "criterion = nn.NLLLoss()\n",
    "\n",
    "#Let's get a random exchange pair\n",
    "epoch_loss = []\n",
    "start_time = datetime.now()\n",
    "for epoch in range(number_of_epochs):\n",
    "    \n",
    "    exchange_pair = corpus.get_random_exchange()\n",
    "    # print(\"Exchange\", exchange_pair)\n",
    "\n",
    "    encoder_optimizer.zero_grad()\n",
    "    decoder_optimizer.zero_grad()\n",
    "    \n",
    "    input_tensor, target_tensor = corpus.pairToTensor(exchange_pair)\n",
    "    #print(\"Input tensor shape\", input_tensor.shape, \"target\", target_tensor.shape)\n",
    "\n",
    "    #Try this on the encoder\n",
    "    #We need to initialise the hidden state\n",
    "    hidden = torch.zeros(1,1,encoder.sizeof_embedding)\n",
    "\n",
    "    encoder_output = []\n",
    "\n",
    "    #Encode each word in the input tensor one word a time\n",
    "    for wIDX in input_tensor:\n",
    "        output, hidden = encoder(wIDX,hidden)\n",
    "        #We also keep an array of the outputs\n",
    "        encoder_output.append(output)\n",
    "\n",
    "    # #The decoder accepts an input and the previous hidden start\n",
    "    # #At the start, the first input is the SOS token and the \n",
    "    # #previous hidden state is the output of the encoder i.e. context vector\n",
    "\n",
    "    int_t = corpus.wordToTensor(Vocabulary.SOS)\n",
    "    hidden = encoder_output[len(encoder_output)-1]\n",
    "\n",
    "    loss = 0\n",
    "    \n",
    "\n",
    "    # print(\"Target Tensor\", target_tensor.shape)\n",
    "\n",
    "    decoder_output = []\n",
    "    \n",
    "    for i in range(len(target_tensor)):\n",
    "        if random.random() < teacher_forcing: int_t = target_tensor[i]\n",
    "        \n",
    "        output, hidden = decoder(int_t,hidden)\n",
    "        #print(\"Output\", output.shape, \"Target\", target_tensor[i].shape)\n",
    "        loss += criterion(output,target_tensor[i])\n",
    "        int_t = torch.argmax(output,dim=1)\n",
    "            \n",
    "    if epoch%print_interval == 0: \n",
    "        end_time = datetime.now()\n",
    "        timediff = end_time - start_time\n",
    "        print(\"Epoch\", epoch, \"Loss\", loss.item()/len(target_tensor), \"teacher_forcing\", teach_forcing, \"in\",timediff.seconds, \"seconds\") \n",
    "        start_time = datetime.now()\n",
    "        \n",
    "    epoch_loss.append([epoch,loss.item()/len(target_tensor)])\n",
    "    loss.backward()\n",
    "    encoder_optimizer.step()\n",
    "    decoder_optimizer.step()\n",
    "    \n",
    "    teach_forcing = max(0,teach_forcing - (teacher_forcing_decay * teach_forcing)) #return 0 if negative\n"
   ]
  },
  {
   "cell_type": "code",
   "execution_count": 11,
   "id": "94cb7859-ea97-4265-b462-6441e5b0845f",
   "metadata": {},
   "outputs": [
    {
     "data": {
      "image/png": "[encoded data removed]",
      "text/plain": [
       "<Figure size 640x480 with 1 Axes>"
      ]
     },
     "metadata": {},
     "output_type": "display_data"
    }
   ],
   "source": [
    "epoch_losses = np.array(epoch_loss)\n",
    "plt.plot(epoch_losses[:,0][::10], epoch_losses[:,1][::10])\n",
    "plt.show()"
   ]
  },
  {
   "cell_type": "code",
   "execution_count": 9,
   "id": "65c1dff4-b1e7-4805-9eb1-e5010226720a",
   "metadata": {},
   "outputs": [
    {
     "name": "stdout",
     "output_type": "stream",
     "text": [
      "[0. 2. 4. 6. 8.]\n"
     ]
    }
   ],
   "source": [
    "print(epoch_losses[:10,0][::2])"
   ]
  },
  {
   "cell_type": "code",
   "execution_count": null,
   "id": "bc61b480-8d58-4d0e-8056-843beedeb179",
   "metadata": {},
   "outputs": [],
   "source": []
  }
 ],
 "metadata": {
  "kernelspec": {
   "display_name": "Python 3 (ipykernel)",
   "language": "python",
   "name": "python3"
  },
  "language_info": {
   "codemirror_mode": {
    "name": "ipython",
    "version": 3
   },
   "file_extension": ".py",
   "mimetype": "text/x-python",
   "name": "python",
   "nbconvert_exporter": "python",
   "pygments_lexer": "ipython3",
   "version": "3.9.13"
  }
 },
 "nbformat": 4,
 "nbformat_minor": 5
}
