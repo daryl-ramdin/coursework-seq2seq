{
 "cells": [
  {
   "cell_type": "markdown",
   "id": "547b2e76-ca81-4af3-b7b5-be9b71c5657f",
   "metadata": {},
   "source": [
    "<h2>Imports</h2>"
   ]
  },
  {
   "cell_type": "code",
   "execution_count": 1,
   "id": "b28db960-eaf7-4621-87ce-379476655879",
   "metadata": {},
   "outputs": [],
   "source": [
    "import os\n",
    "import numpy as np\n",
    "import torch\n",
    "from corpus import Corpus, CornellMovieCorpus, Vocabulary\n",
    "from rnn import GRUEncoder, GRUDecoder, AttentionDecoderLuong, AttentionDecoderBahdanau\n",
    "from torch import optim\n",
    "import torch.nn as nn\n",
    "from matplotlib import pyplot as plt\n",
    "from datetime import datetime\n",
    "import random\n",
    "from torch.utils.data import DataLoader as DataLoader\n",
    "from metrics import show_loss, show_average_accumulated_loss\n",
    "from utils import  evaluate, maskNLLLoss, CrossEntropyLoss"
   ]
  },
  {
   "cell_type": "markdown",
   "id": "3837ad4f-cc3d-44ae-a4b3-fd1ac9dfa6d8",
   "metadata": {},
   "source": [
    "<h2>Parameter Settings</h2>"
   ]
  },
  {
   "cell_type": "code",
   "execution_count": 2,
   "id": "5da89873-4a1f-466c-8773-e724b424627a",
   "metadata": {},
   "outputs": [],
   "source": [
    "random.seed(77)\n",
    "EXPERIMENT_NAME = \"exp1\"\n",
    "SIZEOF_EMBEDDING = 128\n",
    "NUMBER_OF_EPOCHS = 1\n",
    "BATCH_SIZE = 5\n",
    "TEACHER_FORCING = 0\n",
    "TEACHER_FORCING_DECAY = 0\n",
    "PROGRESS_INTERVAL = 100\n",
    "EVAL_INTERVAL = 1000\n",
    "LEARNING_RATE = 1e-03\n",
    "BACKPROPAGATE_INTERVAL = 1\n",
    "DROPOUT = 0\n",
    "BIDIRECTIONAL = False\n",
    "NUMBER_OF_LAYERS = 1\n",
    "CRITERION = CrossEntropyLoss\n",
    "ATTENTION = \"None\" # Either None, Luong, Bahdanau"
   ]
  },
  {
   "cell_type": "markdown",
   "id": "8b536192-9da1-44a0-8f42-543ed4229f07",
   "metadata": {},
   "source": [
    "<h2>Use the GPU if present</h2>"
   ]
  },
  {
   "cell_type": "code",
   "execution_count": 3,
   "id": "cadd0113-1b64-487c-a2ee-6d2ed50c1bf0",
   "metadata": {},
   "outputs": [
    {
     "name": "stdout",
     "output_type": "stream",
     "text": [
      "cuda\n"
     ]
    }
   ],
   "source": [
    "device = torch.device('cpu')\n",
    "if (torch.cuda.is_available()):\n",
    "   device = torch.device('cuda')\n",
    "print(device)\n"
   ]
  },
  {
   "cell_type": "markdown",
   "id": "8eefd147-e96b-4aa0-922f-ca1cb8a51824",
   "metadata": {},
   "source": [
    "<h2>Create a Cornell Movie Corpus </h2>"
   ]
  },
  {
   "cell_type": "code",
   "execution_count": null,
   "id": "5c057d9c-517b-4e05-8236-b812729d0629",
   "metadata": {},
   "outputs": [
    {
     "name": "stdout",
     "output_type": "stream",
     "text": [
      "Loading movie lines...\n",
      "Creating vocabulary...\n",
      "Converting conversation line numbers to text...\n",
      "Creating exchange pairs\n"
     ]
    }
   ],
   "source": [
    "corpus = CornellMovieCorpus(device=device, data_directory = \"../data\",\n",
    "                            limit_pairs=True, limit_words = True, max_seq_length=10, min_word_count=3)"
   ]
  },
  {
   "cell_type": "markdown",
   "id": "7bdee165-0686-4d27-ae09-10a55d8010fc",
   "metadata": {},
   "source": [
    "<h2>Let's look at some data</h2>"
   ]
  },
  {
   "cell_type": "code",
   "execution_count": null,
   "id": "3dc7982e-be6e-44cc-b844-af30a8872892",
   "metadata": {},
   "outputs": [
    {
     "name": "stdout",
     "output_type": "stream",
     "text": [
      "304713 movie lines loaded\n",
      "257093 distinct movie lines exist\n",
      "11.197448090498272 Average number of tokens in a line\n",
      "83097 conversations loaded\n",
      "88222 exchange pairs\n"
     ]
    }
   ],
   "source": [
    "lines = list(corpus.movie_lines.items())\n",
    "print(len(lines), \"movie lines loaded\")\n",
    "\n",
    "distinct_lines = [line[1][\"prepped_text\"] for line in lines]\n",
    "print(len(set(distinct_lines)), \"distinct movie lines exist\")\n",
    "\n",
    "line_lengths = [len(line[1][\"prepped_text\"].split(\" \")) for line in lines]\n",
    "print(sum(line_lengths)/len(line_lengths), \"Average number of tokens in a line\")\n",
    "\n",
    "\n",
    "print(len(corpus.movie_convos), \"conversations loaded\")\n",
    "\n",
    "print(len(corpus.conversations), \"exchange pairs\")"
   ]
  },
  {
   "cell_type": "markdown",
   "id": "2fea16e0-7ecc-43dd-bd45-577127d2c424",
   "metadata": {},
   "source": [
    "<h2>Create Encoders and Decoders</h2>"
   ]
  },
  {
   "cell_type": "code",
   "execution_count": null,
   "id": "76806262-be72-4c3a-8c16-9dad85c1e55a",
   "metadata": {},
   "outputs": [
    {
     "data": {
      "text/plain": [
       "GRUDecoder(\n",
       "  (embedding): Embedding(49048, 128)\n",
       "  (gru): GRU(128, 128)\n",
       "  (out): Linear(in_features=128, out_features=49048, bias=True)\n",
       ")"
      ]
     },
     "execution_count": 6,
     "metadata": {},
     "output_type": "execute_result"
    }
   ],
   "source": [
    "sizeof_vocab = corpus.vocabulary.len\n",
    "#If BIDIRECTIONAL, then the number of layers in the Decoder must be twice the number in the Encoder\n",
    "if BIDIRECTIONAL: \n",
    "    decoder_layers = 2 * NUMBER_OF_LAYERS\n",
    "else:\n",
    "    decoder_layers = NUMBER_OF_LAYERS\n",
    "\n",
    "encoder = GRUEncoder(sizeof_embedding=SIZEOF_EMBEDDING, sizeof_vocab=sizeof_vocab, num_layers = NUMBER_OF_LAYERS, bidirectional=BIDIRECTIONAL, dropout=DROPOUT)\n",
    "    \n",
    "    \n",
    "if ATTENTION == \"Luong\":  \n",
    "    print(\"Creating Luong Decoder\")\n",
    "    decoder = AttentionDecoderLuong(sizeof_embedding=SIZEOF_EMBEDDING, sizeof_vocab=sizeof_vocab, num_layers=decoder_layers,dropout=DROPOUT)\n",
    "elif ATTENTION == \"Bahdanau\":\n",
    "    print(\"Creating Bahdanau Decoder\")\n",
    "    decoder = AttentionDecoderBahdanau(sizeof_embedding=SIZEOF_EMBEDDING, sizeof_vocab=sizeof_vocab, num_layers=decoder_layers,dropout=DROPOUT)\n",
    "else:\n",
    "    print(\"Using Simple Encoder\")\n",
    "    decoder = GRUDecoder(sizeof_embedding= SIZEOF_EMBEDDING, sizeof_vocab = sizeof_vocab, num_layers = decoder_layers, dropout=DROPOUT)\n",
    "\n",
    "# embedding = nn.Embedding(sizeof_vocab, SIZEOF_EMBEDDING)\n",
    "# # Initialize encoder & decoder models\n",
    "# #encoder = EncoderRNN(SIZEOF_EMBEDDING, embedding, 1, 0)\n",
    "# decoder = LuongAttnDecoderRNN(\"dot\", embedding, SIZEOF_EMBEDDING, sizeof_vocab, 1, 0)\n",
    "\n",
    "encoder.to(device)\n",
    "decoder.to(device)"
   ]
  },
  {
   "cell_type": "markdown",
   "id": "2a5351b6-6a04-4b55-bde9-1de7cad34fd8",
   "metadata": {},
   "source": [
    "<h2>Let's setup our trainer</h2>"
   ]
  },
  {
   "cell_type": "code",
   "execution_count": null,
   "id": "365a2fdb-c6fb-4a55-81e0-0ed62e58f8ee",
   "metadata": {},
   "outputs": [],
   "source": [
    "encoder_optimizer = optim.Adam(encoder.parameters(),lr=LEARNING_RATE)\n",
    "decoder_optimizer = optim.Adam(decoder.parameters(),lr=LEARNING_RATE)\n",
    "\n",
    "#criterion = NegativeLLLoss\n",
    "#criterion = nn.CrossEntropyLoss(ignore_index = Vocabulary.PAD_index)\n",
    "\n",
    "\n",
    "\n",
    "#ref: https://discuss.pytorch.org/t/how-to-create-a-dataloader-with-variable-size-input/8278/3?u=ptrblck\n",
    "dataloader = DataLoader(corpus, batch_size=BATCH_SIZE,shuffle=True, collate_fn=Corpus.collate_convos)\n",
    "\n",
    "batch_type = \"Exchange Pair\""
   ]
  },
  {
   "cell_type": "markdown",
   "id": "952a3f48-e3ac-4a59-9b5d-a44e2e47dacb",
   "metadata": {},
   "source": [
    "<h2>Train</h2>"
   ]
  },
  {
   "cell_type": "code",
   "execution_count": null,
   "id": "65c1dff4-b1e7-4805-9eb1-e5010226720a",
   "metadata": {},
   "outputs": [
    {
     "name": "stdout",
     "output_type": "stream",
     "text": [
      "Batch#: 100, Total Sequences Processed: 505, Loss 1.578605, Duration 1 seconds, Teacher Forcing 0.000000\n",
      "Batch#: 200, Total Sequences Processed: 1005, Loss 1.258232, Duration 1 seconds, Teacher Forcing 0.000000\n",
      "Batch#: 300, Total Sequences Processed: 1505, Loss 1.203597, Duration 1 seconds, Teacher Forcing 0.000000\n",
      "Batch#: 400, Total Sequences Processed: 2005, Loss 1.211702, Duration 1 seconds, Teacher Forcing 0.000000\n",
      "Batch#: 500, Total Sequences Processed: 2505, Loss 1.232127, Duration 1 seconds, Teacher Forcing 0.000000\n",
      "Batch#: 600, Total Sequences Processed: 3005, Loss 1.216866, Duration 1 seconds, Teacher Forcing 0.000000\n",
      "Batch#: 700, Total Sequences Processed: 3505, Loss 1.199844, Duration 1 seconds, Teacher Forcing 0.000000\n",
      "Batch#: 800, Total Sequences Processed: 4005, Loss 1.190820, Duration 1 seconds, Teacher Forcing 0.000000\n",
      "Batch#: 900, Total Sequences Processed: 4505, Loss 1.193782, Duration 1 seconds, Teacher Forcing 0.000000\n",
      "Batch#: 1000, Total Sequences Processed: 5005, Loss 1.203963, Duration 1 seconds, Teacher Forcing 0.000000\n",
      "Chatbot: \n",
      "Batch#: 1100, Total Sequences Processed: 5505, Loss 1.184457, Duration 1 seconds, Teacher Forcing 0.000000\n",
      "Batch#: 1200, Total Sequences Processed: 6005, Loss 1.184197, Duration 1 seconds, Teacher Forcing 0.000000\n",
      "Batch#: 1300, Total Sequences Processed: 6505, Loss 1.185110, Duration 1 seconds, Teacher Forcing 0.000000\n",
      "Batch#: 1400, Total Sequences Processed: 7005, Loss 1.211337, Duration 1 seconds, Teacher Forcing 0.000000\n",
      "Batch#: 1500, Total Sequences Processed: 7505, Loss 1.177291, Duration 1 seconds, Teacher Forcing 0.000000\n",
      "Batch#: 1600, Total Sequences Processed: 8005, Loss 1.197231, Duration 1 seconds, Teacher Forcing 0.000000\n",
      "Batch#: 1700, Total Sequences Processed: 8505, Loss 1.166481, Duration 1 seconds, Teacher Forcing 0.000000\n",
      "Batch#: 1800, Total Sequences Processed: 9005, Loss 1.172750, Duration 1 seconds, Teacher Forcing 0.000000\n",
      "Batch#: 1900, Total Sequences Processed: 9505, Loss 1.151086, Duration 1 seconds, Teacher Forcing 0.000000\n",
      "Batch#: 2000, Total Sequences Processed: 10005, Loss 1.149624, Duration 1 seconds, Teacher Forcing 0.000000\n",
      "Chatbot: \n",
      "Batch#: 2100, Total Sequences Processed: 10505, Loss 1.152981, Duration 1 seconds, Teacher Forcing 0.000000\n",
      "Batch#: 2200, Total Sequences Processed: 11005, Loss 1.187077, Duration 1 seconds, Teacher Forcing 0.000000\n",
      "Batch#: 2300, Total Sequences Processed: 11505, Loss 1.159141, Duration 1 seconds, Teacher Forcing 0.000000\n",
      "Batch#: 2400, Total Sequences Processed: 12005, Loss 1.170481, Duration 1 seconds, Teacher Forcing 0.000000\n",
      "Batch#: 2500, Total Sequences Processed: 12505, Loss 1.181849, Duration 1 seconds, Teacher Forcing 0.000000\n",
      "Batch#: 2600, Total Sequences Processed: 13005, Loss 1.186350, Duration 1 seconds, Teacher Forcing 0.000000\n",
      "Batch#: 2700, Total Sequences Processed: 13505, Loss 1.173920, Duration 1 seconds, Teacher Forcing 0.000000\n",
      "Batch#: 2800, Total Sequences Processed: 14005, Loss 1.155325, Duration 1 seconds, Teacher Forcing 0.000000\n",
      "Batch#: 2900, Total Sequences Processed: 14505, Loss 1.160368, Duration 1 seconds, Teacher Forcing 0.000000\n",
      "Batch#: 3000, Total Sequences Processed: 15005, Loss 1.162420, Duration 1 seconds, Teacher Forcing 0.000000\n",
      "Chatbot: \n",
      "Batch#: 3100, Total Sequences Processed: 15505, Loss 1.171990, Duration 1 seconds, Teacher Forcing 0.000000\n",
      "Batch#: 3200, Total Sequences Processed: 16005, Loss 1.145712, Duration 1 seconds, Teacher Forcing 0.000000\n",
      "Batch#: 3300, Total Sequences Processed: 16505, Loss 1.156193, Duration 1 seconds, Teacher Forcing 0.000000\n",
      "Batch#: 3400, Total Sequences Processed: 17005, Loss 1.188897, Duration 1 seconds, Teacher Forcing 0.000000\n",
      "Batch#: 3500, Total Sequences Processed: 17505, Loss 1.153734, Duration 1 seconds, Teacher Forcing 0.000000\n",
      "Batch#: 3600, Total Sequences Processed: 18005, Loss 1.150180, Duration 1 seconds, Teacher Forcing 0.000000\n",
      "Batch#: 3700, Total Sequences Processed: 18505, Loss 1.152308, Duration 1 seconds, Teacher Forcing 0.000000\n",
      "Batch#: 3800, Total Sequences Processed: 19005, Loss 1.146876, Duration 1 seconds, Teacher Forcing 0.000000\n",
      "Batch#: 3900, Total Sequences Processed: 19505, Loss 1.172435, Duration 1 seconds, Teacher Forcing 0.000000\n",
      "Batch#: 4000, Total Sequences Processed: 20005, Loss 1.143347, Duration 1 seconds, Teacher Forcing 0.000000\n",
      "Chatbot: \n",
      "Batch#: 4100, Total Sequences Processed: 20505, Loss 1.171398, Duration 1 seconds, Teacher Forcing 0.000000\n",
      "Batch#: 4200, Total Sequences Processed: 21005, Loss 1.138851, Duration 1 seconds, Teacher Forcing 0.000000\n",
      "Batch#: 4300, Total Sequences Processed: 21505, Loss 1.157544, Duration 1 seconds, Teacher Forcing 0.000000\n",
      "Batch#: 4400, Total Sequences Processed: 22005, Loss 1.147091, Duration 1 seconds, Teacher Forcing 0.000000\n",
      "Batch#: 4500, Total Sequences Processed: 22505, Loss 1.161798, Duration 1 seconds, Teacher Forcing 0.000000\n",
      "Batch#: 4600, Total Sequences Processed: 23005, Loss 1.143346, Duration 1 seconds, Teacher Forcing 0.000000\n",
      "Batch#: 4700, Total Sequences Processed: 23505, Loss 1.161820, Duration 1 seconds, Teacher Forcing 0.000000\n",
      "Batch#: 4800, Total Sequences Processed: 24005, Loss 1.151074, Duration 1 seconds, Teacher Forcing 0.000000\n",
      "Batch#: 4900, Total Sequences Processed: 24505, Loss 1.174400, Duration 1 seconds, Teacher Forcing 0.000000\n",
      "Batch#: 5000, Total Sequences Processed: 25005, Loss 1.151938, Duration 1 seconds, Teacher Forcing 0.000000\n",
      "Chatbot: \n",
      "Batch#: 5100, Total Sequences Processed: 25505, Loss 1.142454, Duration 1 seconds, Teacher Forcing 0.000000\n",
      "Batch#: 5200, Total Sequences Processed: 26005, Loss 1.155521, Duration 1 seconds, Teacher Forcing 0.000000\n",
      "Batch#: 5300, Total Sequences Processed: 26505, Loss 1.161381, Duration 1 seconds, Teacher Forcing 0.000000\n",
      "Batch#: 5400, Total Sequences Processed: 27005, Loss 1.143047, Duration 1 seconds, Teacher Forcing 0.000000\n",
      "Batch#: 5500, Total Sequences Processed: 27505, Loss 1.154524, Duration 1 seconds, Teacher Forcing 0.000000\n",
      "Batch#: 5600, Total Sequences Processed: 28005, Loss 1.177039, Duration 1 seconds, Teacher Forcing 0.000000\n",
      "Batch#: 5700, Total Sequences Processed: 28505, Loss 1.155085, Duration 1 seconds, Teacher Forcing 0.000000\n",
      "Batch#: 5800, Total Sequences Processed: 29005, Loss 1.144612, Duration 1 seconds, Teacher Forcing 0.000000\n",
      "Batch#: 5900, Total Sequences Processed: 29505, Loss 1.153266, Duration 1 seconds, Teacher Forcing 0.000000\n",
      "Batch#: 6000, Total Sequences Processed: 30005, Loss 1.152769, Duration 1 seconds, Teacher Forcing 0.000000\n",
      "Chatbot: \n",
      "Batch#: 6100, Total Sequences Processed: 30505, Loss 1.157321, Duration 1 seconds, Teacher Forcing 0.000000\n",
      "Batch#: 6200, Total Sequences Processed: 31005, Loss 1.178727, Duration 1 seconds, Teacher Forcing 0.000000\n",
      "Batch#: 6300, Total Sequences Processed: 31505, Loss 1.169109, Duration 1 seconds, Teacher Forcing 0.000000\n",
      "Batch#: 6400, Total Sequences Processed: 32005, Loss 1.161522, Duration 1 seconds, Teacher Forcing 0.000000\n",
      "Batch#: 6500, Total Sequences Processed: 32505, Loss 1.155065, Duration 1 seconds, Teacher Forcing 0.000000\n",
      "Batch#: 6600, Total Sequences Processed: 33005, Loss 1.150073, Duration 1 seconds, Teacher Forcing 0.000000\n",
      "Batch#: 6700, Total Sequences Processed: 33505, Loss 1.156735, Duration 1 seconds, Teacher Forcing 0.000000\n",
      "Batch#: 6800, Total Sequences Processed: 34005, Loss 1.175156, Duration 1 seconds, Teacher Forcing 0.000000\n",
      "Batch#: 6900, Total Sequences Processed: 34505, Loss 1.163131, Duration 1 seconds, Teacher Forcing 0.000000\n",
      "Batch#: 7000, Total Sequences Processed: 35005, Loss 1.157028, Duration 1 seconds, Teacher Forcing 0.000000\n",
      "Chatbot: \n",
      "Batch#: 7100, Total Sequences Processed: 35505, Loss 1.170025, Duration 1 seconds, Teacher Forcing 0.000000\n",
      "Batch#: 7200, Total Sequences Processed: 36005, Loss 1.153621, Duration 1 seconds, Teacher Forcing 0.000000\n",
      "Batch#: 7300, Total Sequences Processed: 36505, Loss 1.126931, Duration 1 seconds, Teacher Forcing 0.000000\n",
      "Batch#: 7400, Total Sequences Processed: 37005, Loss 1.146099, Duration 1 seconds, Teacher Forcing 0.000000\n",
      "Batch#: 7500, Total Sequences Processed: 37505, Loss 1.160553, Duration 1 seconds, Teacher Forcing 0.000000\n",
      "Batch#: 7600, Total Sequences Processed: 38005, Loss 1.145238, Duration 1 seconds, Teacher Forcing 0.000000\n",
      "Batch#: 7700, Total Sequences Processed: 38505, Loss 1.149110, Duration 1 seconds, Teacher Forcing 0.000000\n",
      "Batch#: 7800, Total Sequences Processed: 39005, Loss 1.158995, Duration 1 seconds, Teacher Forcing 0.000000\n",
      "Batch#: 7900, Total Sequences Processed: 39505, Loss 1.137303, Duration 1 seconds, Teacher Forcing 0.000000\n",
      "Batch#: 8000, Total Sequences Processed: 40005, Loss 1.135767, Duration 1 seconds, Teacher Forcing 0.000000\n",
      "Chatbot: \n",
      "Batch#: 8100, Total Sequences Processed: 40505, Loss 1.143552, Duration 1 seconds, Teacher Forcing 0.000000\n",
      "Batch#: 8200, Total Sequences Processed: 41005, Loss 1.140850, Duration 1 seconds, Teacher Forcing 0.000000\n",
      "Batch#: 8300, Total Sequences Processed: 41505, Loss 1.170891, Duration 1 seconds, Teacher Forcing 0.000000\n",
      "Batch#: 8400, Total Sequences Processed: 42005, Loss 1.164760, Duration 1 seconds, Teacher Forcing 0.000000\n",
      "Batch#: 8500, Total Sequences Processed: 42505, Loss 1.172712, Duration 1 seconds, Teacher Forcing 0.000000\n",
      "Batch#: 8600, Total Sequences Processed: 43005, Loss 1.141092, Duration 1 seconds, Teacher Forcing 0.000000\n",
      "Batch#: 8700, Total Sequences Processed: 43505, Loss 1.158490, Duration 1 seconds, Teacher Forcing 0.000000\n",
      "Batch#: 8800, Total Sequences Processed: 44005, Loss 1.132681, Duration 1 seconds, Teacher Forcing 0.000000\n",
      "Batch#: 8900, Total Sequences Processed: 44505, Loss 1.150571, Duration 1 seconds, Teacher Forcing 0.000000\n",
      "Batch#: 9000, Total Sequences Processed: 45005, Loss 1.124258, Duration 1 seconds, Teacher Forcing 0.000000\n",
      "Chatbot: \n",
      "Batch#: 9100, Total Sequences Processed: 45505, Loss 1.159658, Duration 1 seconds, Teacher Forcing 0.000000\n",
      "Batch#: 9200, Total Sequences Processed: 46005, Loss 1.127065, Duration 1 seconds, Teacher Forcing 0.000000\n",
      "Batch#: 9300, Total Sequences Processed: 46505, Loss 1.158685, Duration 1 seconds, Teacher Forcing 0.000000\n",
      "Batch#: 9400, Total Sequences Processed: 47005, Loss 1.164426, Duration 1 seconds, Teacher Forcing 0.000000\n",
      "Batch#: 9500, Total Sequences Processed: 47505, Loss 1.168040, Duration 1 seconds, Teacher Forcing 0.000000\n",
      "Batch#: 9600, Total Sequences Processed: 48005, Loss 1.117821, Duration 1 seconds, Teacher Forcing 0.000000\n",
      "Batch#: 9700, Total Sequences Processed: 48505, Loss 1.133729, Duration 1 seconds, Teacher Forcing 0.000000\n",
      "Batch#: 9800, Total Sequences Processed: 49005, Loss 1.175581, Duration 1 seconds, Teacher Forcing 0.000000\n",
      "Batch#: 9900, Total Sequences Processed: 49505, Loss 1.151754, Duration 1 seconds, Teacher Forcing 0.000000\n",
      "Batch#: 10000, Total Sequences Processed: 50005, Loss 1.149016, Duration 1 seconds, Teacher Forcing 0.000000\n",
      "Chatbot: \n",
      "Batch#: 10100, Total Sequences Processed: 50505, Loss 1.133836, Duration 1 seconds, Teacher Forcing 0.000000\n",
      "Batch#: 10200, Total Sequences Processed: 51005, Loss 1.152180, Duration 1 seconds, Teacher Forcing 0.000000\n",
      "Batch#: 10300, Total Sequences Processed: 51505, Loss 1.141167, Duration 1 seconds, Teacher Forcing 0.000000\n",
      "Batch#: 10400, Total Sequences Processed: 52005, Loss 1.154468, Duration 1 seconds, Teacher Forcing 0.000000\n",
      "Batch#: 10500, Total Sequences Processed: 52505, Loss 1.165330, Duration 1 seconds, Teacher Forcing 0.000000\n",
      "Batch#: 10600, Total Sequences Processed: 53005, Loss 1.182187, Duration 1 seconds, Teacher Forcing 0.000000\n",
      "Batch#: 10700, Total Sequences Processed: 53505, Loss 1.154363, Duration 1 seconds, Teacher Forcing 0.000000\n",
      "Batch#: 10800, Total Sequences Processed: 54005, Loss 1.144357, Duration 1 seconds, Teacher Forcing 0.000000\n",
      "Batch#: 10900, Total Sequences Processed: 54505, Loss 1.135409, Duration 1 seconds, Teacher Forcing 0.000000\n",
      "Batch#: 11000, Total Sequences Processed: 55005, Loss 1.129742, Duration 1 seconds, Teacher Forcing 0.000000\n",
      "Chatbot: \n",
      "Batch#: 11100, Total Sequences Processed: 55505, Loss 1.153854, Duration 1 seconds, Teacher Forcing 0.000000\n",
      "Batch#: 11200, Total Sequences Processed: 56005, Loss 1.148480, Duration 1 seconds, Teacher Forcing 0.000000\n",
      "Batch#: 11300, Total Sequences Processed: 56505, Loss 1.128734, Duration 1 seconds, Teacher Forcing 0.000000\n",
      "Batch#: 11400, Total Sequences Processed: 57005, Loss 1.156916, Duration 1 seconds, Teacher Forcing 0.000000\n",
      "Batch#: 11500, Total Sequences Processed: 57505, Loss 1.135190, Duration 1 seconds, Teacher Forcing 0.000000\n",
      "Batch#: 11600, Total Sequences Processed: 58005, Loss 1.139535, Duration 1 seconds, Teacher Forcing 0.000000\n",
      "Batch#: 11700, Total Sequences Processed: 58505, Loss 1.135847, Duration 1 seconds, Teacher Forcing 0.000000\n",
      "Batch#: 11800, Total Sequences Processed: 59005, Loss 1.178104, Duration 1 seconds, Teacher Forcing 0.000000\n",
      "Batch#: 11900, Total Sequences Processed: 59505, Loss 1.176049, Duration 1 seconds, Teacher Forcing 0.000000\n",
      "Batch#: 12000, Total Sequences Processed: 60005, Loss 1.146830, Duration 1 seconds, Teacher Forcing 0.000000\n",
      "Chatbot: \n",
      "Batch#: 12100, Total Sequences Processed: 60505, Loss 1.168148, Duration 1 seconds, Teacher Forcing 0.000000\n",
      "Batch#: 12200, Total Sequences Processed: 61005, Loss 1.142423, Duration 1 seconds, Teacher Forcing 0.000000\n",
      "Batch#: 12300, Total Sequences Processed: 61505, Loss 1.145006, Duration 1 seconds, Teacher Forcing 0.000000\n",
      "Batch#: 12400, Total Sequences Processed: 62005, Loss 1.164247, Duration 1 seconds, Teacher Forcing 0.000000\n",
      "Batch#: 12500, Total Sequences Processed: 62505, Loss 1.154403, Duration 1 seconds, Teacher Forcing 0.000000\n",
      "Batch#: 12600, Total Sequences Processed: 63005, Loss 1.156630, Duration 1 seconds, Teacher Forcing 0.000000\n",
      "Batch#: 12700, Total Sequences Processed: 63505, Loss 1.149773, Duration 1 seconds, Teacher Forcing 0.000000\n",
      "Batch#: 12800, Total Sequences Processed: 64005, Loss 1.148239, Duration 1 seconds, Teacher Forcing 0.000000\n",
      "Batch#: 12900, Total Sequences Processed: 64505, Loss 1.164035, Duration 1 seconds, Teacher Forcing 0.000000\n",
      "Batch#: 13000, Total Sequences Processed: 65005, Loss 1.120658, Duration 1 seconds, Teacher Forcing 0.000000\n",
      "Chatbot: \n",
      "Batch#: 13100, Total Sequences Processed: 65505, Loss 1.155049, Duration 1 seconds, Teacher Forcing 0.000000\n",
      "Batch#: 13200, Total Sequences Processed: 66005, Loss 1.166802, Duration 1 seconds, Teacher Forcing 0.000000\n",
      "Batch#: 13300, Total Sequences Processed: 66505, Loss 1.161491, Duration 1 seconds, Teacher Forcing 0.000000\n",
      "Batch#: 13400, Total Sequences Processed: 67005, Loss 1.133270, Duration 1 seconds, Teacher Forcing 0.000000\n",
      "Batch#: 13500, Total Sequences Processed: 67505, Loss 1.139503, Duration 1 seconds, Teacher Forcing 0.000000\n",
      "Batch#: 13600, Total Sequences Processed: 68005, Loss 1.164981, Duration 1 seconds, Teacher Forcing 0.000000\n",
      "Batch#: 13700, Total Sequences Processed: 68505, Loss 1.148503, Duration 1 seconds, Teacher Forcing 0.000000\n",
      "Batch#: 13800, Total Sequences Processed: 69005, Loss 1.143759, Duration 1 seconds, Teacher Forcing 0.000000\n",
      "Batch#: 13900, Total Sequences Processed: 69505, Loss 1.156939, Duration 1 seconds, Teacher Forcing 0.000000\n",
      "Batch#: 14000, Total Sequences Processed: 70005, Loss 1.162303, Duration 1 seconds, Teacher Forcing 0.000000\n",
      "Chatbot: \n",
      "Batch#: 14100, Total Sequences Processed: 70505, Loss 1.165676, Duration 1 seconds, Teacher Forcing 0.000000\n",
      "Batch#: 14200, Total Sequences Processed: 71005, Loss 1.154613, Duration 1 seconds, Teacher Forcing 0.000000\n",
      "Batch#: 14300, Total Sequences Processed: 71505, Loss 1.124115, Duration 1 seconds, Teacher Forcing 0.000000\n",
      "Batch#: 14400, Total Sequences Processed: 72005, Loss 1.154778, Duration 1 seconds, Teacher Forcing 0.000000\n",
      "Batch#: 14500, Total Sequences Processed: 72505, Loss 1.143403, Duration 1 seconds, Teacher Forcing 0.000000\n",
      "Batch#: 14600, Total Sequences Processed: 73005, Loss 1.116761, Duration 1 seconds, Teacher Forcing 0.000000\n",
      "Batch#: 14700, Total Sequences Processed: 73505, Loss 1.165723, Duration 1 seconds, Teacher Forcing 0.000000\n",
      "Batch#: 14800, Total Sequences Processed: 74005, Loss 1.158792, Duration 1 seconds, Teacher Forcing 0.000000\n",
      "Batch#: 14900, Total Sequences Processed: 74505, Loss 1.173370, Duration 1 seconds, Teacher Forcing 0.000000\n",
      "Batch#: 15000, Total Sequences Processed: 75005, Loss 1.147588, Duration 1 seconds, Teacher Forcing 0.000000\n",
      "Chatbot: \n",
      "Batch#: 15100, Total Sequences Processed: 75505, Loss 1.147942, Duration 1 seconds, Teacher Forcing 0.000000\n",
      "Batch#: 15200, Total Sequences Processed: 76005, Loss 1.157066, Duration 1 seconds, Teacher Forcing 0.000000\n",
      "Batch#: 15300, Total Sequences Processed: 76505, Loss 1.168368, Duration 1 seconds, Teacher Forcing 0.000000\n",
      "Batch#: 15400, Total Sequences Processed: 77005, Loss 1.142324, Duration 1 seconds, Teacher Forcing 0.000000\n",
      "Batch#: 15500, Total Sequences Processed: 77505, Loss 1.170465, Duration 1 seconds, Teacher Forcing 0.000000\n",
      "Batch#: 15600, Total Sequences Processed: 78005, Loss 1.133191, Duration 1 seconds, Teacher Forcing 0.000000\n",
      "Batch#: 15700, Total Sequences Processed: 78505, Loss 1.151246, Duration 1 seconds, Teacher Forcing 0.000000\n",
      "Batch#: 15800, Total Sequences Processed: 79005, Loss 1.158046, Duration 1 seconds, Teacher Forcing 0.000000\n",
      "Batch#: 15900, Total Sequences Processed: 79505, Loss 1.142642, Duration 1 seconds, Teacher Forcing 0.000000\n",
      "Batch#: 16000, Total Sequences Processed: 80005, Loss 1.117312, Duration 1 seconds, Teacher Forcing 0.000000\n",
      "Chatbot: \n",
      "Batch#: 16100, Total Sequences Processed: 80505, Loss 1.141864, Duration 1 seconds, Teacher Forcing 0.000000\n",
      "Batch#: 16200, Total Sequences Processed: 81005, Loss 1.120736, Duration 1 seconds, Teacher Forcing 0.000000\n",
      "Batch#: 16300, Total Sequences Processed: 81505, Loss 1.151578, Duration 1 seconds, Teacher Forcing 0.000000\n",
      "Batch#: 16400, Total Sequences Processed: 82005, Loss 1.120220, Duration 1 seconds, Teacher Forcing 0.000000\n",
      "Batch#: 16500, Total Sequences Processed: 82505, Loss 1.151635, Duration 1 seconds, Teacher Forcing 0.000000\n",
      "Batch#: 16600, Total Sequences Processed: 83005, Loss 1.144128, Duration 1 seconds, Teacher Forcing 0.000000\n",
      "Batch#: 16700, Total Sequences Processed: 83505, Loss 1.128660, Duration 1 seconds, Teacher Forcing 0.000000\n",
      "Batch#: 16800, Total Sequences Processed: 84005, Loss 1.131620, Duration 1 seconds, Teacher Forcing 0.000000\n",
      "Batch#: 16900, Total Sequences Processed: 84505, Loss 1.170287, Duration 1 seconds, Teacher Forcing 0.000000\n",
      "Batch#: 17000, Total Sequences Processed: 85005, Loss 1.133325, Duration 1 seconds, Teacher Forcing 0.000000\n",
      "Chatbot: \n",
      "Batch#: 17100, Total Sequences Processed: 85505, Loss 1.153646, Duration 1 seconds, Teacher Forcing 0.000000\n",
      "Batch#: 17200, Total Sequences Processed: 86005, Loss 1.173857, Duration 1 seconds, Teacher Forcing 0.000000\n",
      "Batch#: 17300, Total Sequences Processed: 86505, Loss 1.159242, Duration 1 seconds, Teacher Forcing 0.000000\n",
      "Batch#: 17400, Total Sequences Processed: 87005, Loss 1.137825, Duration 1 seconds, Teacher Forcing 0.000000\n",
      "Batch#: 17500, Total Sequences Processed: 87505, Loss 1.151696, Duration 1 seconds, Teacher Forcing 0.000000\n",
      "Batch#: 17600, Total Sequences Processed: 88005, Loss 1.126968, Duration 1 seconds, Teacher Forcing 0.000000\n"
     ]
    }
   ],
   "source": [
    "epoch_loss = 0\n",
    "start_time = datetime.now()\n",
    "training_loss = []\n",
    "total_sequences = 0\n",
    "interval_seq_count = 0\n",
    "\n",
    "\n",
    "for epoch in range(NUMBER_OF_EPOCHS):\n",
    "    epoch_loss = 0\n",
    "    processed_total_batches = 0\n",
    "    batch_counter = 0\n",
    "\n",
    "    interval_loss = 0\n",
    "    propagation_loss = 0\n",
    "\n",
    "    #Let's train on the entire dataset\n",
    "    for idx, batch in enumerate(dataloader):\n",
    "        #Each batch contains a batch_size number of exchange pairs\n",
    "        \n",
    "        teacher_forcing = False\n",
    "        \n",
    "        encoder_optimizer.zero_grad()\n",
    "        decoder_optimizer.zero_grad()\n",
    "\n",
    "        #Let's extract the data from each batch\n",
    "\n",
    "        #The Q and Q tensors\n",
    "        Q_tensors = torch.stack([batch[i][1][\"Q\"] for i in range(len(batch))]) #shape(batch_size, 1, seq_len) #1 represents 1 exchange pair\n",
    "        A_tensors= torch.stack([batch[i][1][\"A\"] for i in range(len(batch))]) #shape(batch_size, 1, seq_len)  #1 represents 1 exchange pair\n",
    "\n",
    "        #The masks to mask the padded sequences\n",
    "        Q_masks = torch.stack([batch[i][1][\"Q_mask\"] for i in range(len(batch))])  # shape(batch_size, 1, seq_len) #1 represents 1 exchange pair\n",
    "        A_masks = torch.stack([batch[i][1][\"A_mask\"] for i in range(len(batch))])  # shape(batch_size, 1, seq_len)  #1 represents 1 exchange pair\n",
    "\n",
    "        #Get the length of each sequence.\n",
    "        Q_lens = [batch[i][1][\"Q_len\"] for i in range(len(batch))]\n",
    "        A_lens = [batch[i][1][\"A_len\"] for i in range(len(batch))]\n",
    "\n",
    "        #Remove the 1 in each of the tensors i.e. [batch_size,1,seq_length]\n",
    "        Q_tensors = Q_tensors.squeeze(1)\n",
    "        A_tensors = A_tensors.squeeze(1)\n",
    "\n",
    "        #Get the batch size and sequence length\n",
    "        batch_size = A_tensors.shape[0] #Number of sequences in the target\n",
    "        seq_length = A_tensors.shape[1] #All sequences are fixed length\n",
    "        \n",
    "        #We set seq_length to the length of the longest sequence so that\n",
    "        # in calculating the loss we do not pass a tensor full of padding\n",
    "        # tokens as this returns a nan\n",
    "        seq_length = max(A_lens)\n",
    "\n",
    "        #Transpose to tensors are now seq_length, batch_size\n",
    "        Q_tensors = torch.transpose(Q_tensors,0,1)\n",
    "        A_tensors = torch.transpose(A_tensors,0,1)\n",
    "\n",
    "        Q_masks = torch.transpose(Q_masks, 0, 1)\n",
    "        A_masks = torch.transpose(A_masks, 0, 1)\n",
    "\n",
    "        #Encode the batch. The encoder accepts an input of shape (seq_length,batch_size)\n",
    "        encoder_output, encoder_hidden = encoder(Q_tensors, Q_lens) # encoder_output: (max_seq_len, batch_size, hidden_size), encoder_hidden: (1, batch_size, hidden_size)\n",
    "\n",
    "        # At the start, the first input to the decoder is the SOS token\n",
    "        # Create a batch of SOS tensors\n",
    "        decoder_input = torch.tensor([[corpus.vocabulary.SOS_index for _ in range(batch_size)]],\n",
    "                                     dtype=torch.int64, device=device)\n",
    "\n",
    "        #The initial hidden input to the decoder is the last hidden of the encoder.\n",
    "        decoder_hidden = encoder_hidden\n",
    "        \n",
    "        loss = 0\n",
    "        interval_seq_count+=batch_size\n",
    "        total_sequences+=batch_size\n",
    "\n",
    "        #If we are using teach forcing then the decoder_hidden is the \n",
    "        if random.random() < TEACHER_FORCING: teacher_forcing = True\n",
    "        \n",
    "        for i in range(seq_length):\n",
    "            \n",
    "            #Get the decoder output and hidden state for the\n",
    "            decoder_output, decoder_hidden = decoder(decoder_input, decoder_hidden, encoder_output) #decoder_output (1, batch_size, sizeof_vocab), decoder_hidden (batch_size, sizeof_hidden)\n",
    "\n",
    "            #decoder_output = decoder_output.squeeze(0)\n",
    "            # calculate the loss by comparing with the tensor of the target\n",
    "            target = A_tensors[i,:]\n",
    "\n",
    "            #loss += criterion(decoder_output,target).mean()\n",
    "\n",
    "            mask_loss, nTotal = CRITERION(decoder_output, target, A_masks[i,:], device)\n",
    "            loss+=mask_loss\n",
    "\n",
    "            #Get the top prediction for each batch\n",
    "            decoder_input = decoder_output.topk(k=1, dim=1).indices\n",
    "\n",
    "            #Change the view to (1, batch_size)\n",
    "            decoder_input = decoder_input.view(1,-1)\n",
    "            \n",
    "            #if teacher forcing then the target is fed in as the input\n",
    "            #change view to 1, batch_size\n",
    "            if teacher_forcing: decoder_input = target.view(1,-1)\n",
    "        \n",
    "        propagation_loss += loss\n",
    "        sequence_loss = loss.item()/seq_length\n",
    "        interval_loss += sequence_loss\n",
    "\n",
    "\n",
    "        TEACHER_FORCING = max(0,TEACHER_FORCING - (TEACHER_FORCING*TEACHER_FORCING_DECAY))\n",
    "        \n",
    "        if batch_counter%BACKPROPAGATE_INTERVAL == 0:\n",
    "            propagation_loss.backward()\n",
    "            # ref: https://pytorch.org/tutorials/beginner/chatbot_tutorial.html?highlight=chatbot%20tutorial\n",
    "            _ = nn.utils.clip_grad_norm_(encoder.parameters(), 1)\n",
    "            _ = nn.utils.clip_grad_norm_(decoder.parameters(), 1)\n",
    "                \n",
    "            encoder_optimizer.step()\n",
    "            decoder_optimizer.step()\n",
    "            propagation_loss = 0\n",
    "\n",
    "        if batch_counter%PROGRESS_INTERVAL == 0 and batch_counter:\n",
    "            #Calculate the average sequence loss over the interval\n",
    "            end_time = datetime.now()\n",
    "            timediff = end_time - start_time\n",
    "            timediff = timediff.seconds\n",
    "            print(\"Batch#: {0:1d}, Total Sequences Processed: {1:1d}, Loss {3:.6f}, Duration {4:d} seconds, Teacher Forcing {5:.6f}\".format(batch_counter, total_sequences, interval_seq_count, interval_loss/interval_seq_count, timediff, TEACHER_FORCING))\n",
    "            start_time = datetime.now()\n",
    "            interval_loss = 0\n",
    "            interval_seq_count = 0\n",
    "\n",
    "        if batch_counter%EVAL_INTERVAL == 0 and batch_counter!=0:\n",
    "            evaluate(\"Hi! how are you?\",encoder,decoder,corpus, device)\n",
    "\n",
    "        training_loss.append([batch_counter,sequence_loss])\n",
    "        batch_counter += 1"
   ]
  },
  {
   "cell_type": "markdown",
   "id": "53ff2e84-735a-4cdb-8831-dcb3e08d3fad",
   "metadata": {},
   "source": [
    "<h2>Save and print results</h2>"
   ]
  },
  {
   "cell_type": "code",
   "execution_count": null,
   "id": "6d2395f8-d7c1-4c04-9ca7-268c68a3ca5c",
   "metadata": {},
   "outputs": [],
   "source": [
    "data_file = EXPERIMENT_NAME + \".csv\"\n",
    "np.savetxt(data_file,training_loss,delimiter=\",\")\n",
    "torch.save(encoder.state_dict(), EXPERIMENT_NAME + \"_encoder.dict\")\n",
    "torch.save(decoder.state_dict(), EXPERIMENT_NAME + \"_decoder.dict\")"
   ]
  },
  {
   "cell_type": "code",
   "execution_count": null,
   "id": "274f0f65-8b72-4954-b620-d6fc841c15ff",
   "metadata": {},
   "outputs": [
    {
     "data": {
      "image/png": "[encoded data removed]",
      "text/plain": [
       "<Figure size 432x288 with 1 Axes>"
      ]
     },
     "metadata": {
      "needs_background": "light"
     },
     "output_type": "display_data"
    }
   ],
   "source": [
    "show_loss(data_file,100)"
   ]
  },
  {
   "cell_type": "code",
   "execution_count": null,
   "id": "081f358d-43a0-45e7-b9c0-48fe2b775b69",
   "metadata": {},
   "outputs": [
    {
     "data": {
      "image/png": "[encoded data removed]",
      "text/plain": [
       "<Figure size 432x288 with 1 Axes>"
      ]
     },
     "metadata": {
      "needs_background": "light"
     },
     "output_type": "display_data"
    }
   ],
   "source": [
    "show_average_accumulated_loss(data_file)"
   ]
  },
  {
   "cell_type": "code",
   "execution_count": null,
   "id": "a0507bb0-e9ec-4620-a5bf-9547faa9f01b",
   "metadata": {},
   "outputs": [
    {
     "name": "stdin",
     "output_type": "stream",
     "text": [
      " Hi\n"
     ]
    },
    {
     "name": "stdout",
     "output_type": "stream",
     "text": [
      "Chatbot: \n"
     ]
    },
    {
     "name": "stdin",
     "output_type": "stream",
     "text": [
      " How are you?\n"
     ]
    },
    {
     "name": "stdout",
     "output_type": "stream",
     "text": [
      "Chatbot: \n"
     ]
    }
   ],
   "source": [
    "txt = \"\"\n",
    "while txt != \"Bye!\":\n",
    "    txt = input()\n",
    "    evaluate(txt,encoder,decoder,corpus, device)"
   ]
  },
  {
   "cell_type": "code",
   "execution_count": null,
   "id": "d789de2a-31a1-493e-8944-bb1254e000f0",
   "metadata": {},
   "outputs": [],
   "source": []
  },
  {
   "cell_type": "code",
   "execution_count": null,
   "id": "e0b61a43-6b4d-45bd-af36-a4298e197e4a",
   "metadata": {},
   "outputs": [],
   "source": []
  }
 ],
 "metadata": {
  "kernelspec": {
   "display_name": "Python 3 (ipykernel)",
   "language": "python",
   "name": "python3"
  },
  "language_info": {
   "codemirror_mode": {
    "name": "ipython",
    "version": 3
   },
   "file_extension": ".py",
   "mimetype": "text/x-python",
   "name": "python",
   "nbconvert_exporter": "python",
   "pygments_lexer": "ipython3",
   "version": "3.9.5"
  }
 },
 "nbformat": 4,
 "nbformat_minor": 5
}
