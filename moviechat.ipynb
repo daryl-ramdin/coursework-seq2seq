{
 "cells": [
  {
   "cell_type": "markdown",
   "id": "547b2e76-ca81-4af3-b7b5-be9b71c5657f",
   "metadata": {},
   "source": [
    "<h2>Imports</h2>"
   ]
  },
  {
   "cell_type": "code",
   "execution_count": 1,
   "id": "b28db960-eaf7-4621-87ce-379476655879",
   "metadata": {},
   "outputs": [
    {
     "name": "stderr",
     "output_type": "stream",
     "text": [
      "/Users/darylramdin/opt/anaconda3/lib/python3.9/site-packages/tqdm/auto.py:22: TqdmWarning: IProgress not found. Please update jupyter and ipywidgets. See https://ipywidgets.readthedocs.io/en/stable/user_install.html\n",
      "  from .autonotebook import tqdm as notebook_tqdm\n"
     ]
    }
   ],
   "source": [
    "import os\n",
    "import numpy as np\n",
    "import torch\n",
    "from collections import namedtuple\n",
    "import csv\n",
    "import re\n",
    "from corpus import CornellMovieCorpus"
   ]
  },
  {
   "cell_type": "markdown",
   "id": "8b536192-9da1-44a0-8f42-543ed4229f07",
   "metadata": {},
   "source": [
    "<h2>Use the GPU if present</h2>"
   ]
  },
  {
   "cell_type": "code",
   "execution_count": 2,
   "id": "cadd0113-1b64-487c-a2ee-6d2ed50c1bf0",
   "metadata": {},
   "outputs": [
    {
     "name": "stdout",
     "output_type": "stream",
     "text": [
      "mps\n"
     ]
    }
   ],
   "source": [
    "#Let's do the GPU stuff\n",
    "device = torch.device('mps')\n",
    "if (torch.cuda.is_available()):\n",
    "   device = torch.device('cuda')\n",
    "print(device)"
   ]
  },
  {
   "cell_type": "markdown",
   "id": "8eefd147-e96b-4aa0-922f-ca1cb8a51824",
   "metadata": {},
   "source": [
    "<h2>Create a Cornell Movie Corpus </h2>"
   ]
  },
  {
   "cell_type": "code",
   "execution_count": 3,
   "id": "5c057d9c-517b-4e05-8236-b812729d0629",
   "metadata": {},
   "outputs": [
    {
     "name": "stdout",
     "output_type": "stream",
     "text": [
      "['u0', 'u2', 'm0', \"['L194', 'L195', 'L196', 'L197']\"]\n",
      "['u0', 'u2', 'm0', \"['L198', 'L199']\"]\n",
      "['u0', 'u2', 'm0', \"['L200', 'L201', 'L202', 'L203']\"]\n",
      "['u0', 'u2', 'm0', \"['L204', 'L205', 'L206']\"]\n",
      "['u0', 'u2', 'm0', \"['L207', 'L208']\"]\n",
      "['u0', 'u2', 'm0', \"['L271', 'L272', 'L273', 'L274', 'L275']\"]\n",
      "['u0', 'u2', 'm0', \"['L276', 'L277']\"]\n",
      "['u0', 'u2', 'm0', \"['L280', 'L281']\"]\n",
      "['u0', 'u2', 'm0', \"['L363', 'L364']\"]\n",
      "['u0', 'u2', 'm0', \"['L365', 'L366']\"]\n",
      "Creating dictionary of utterances...\n",
      "Converting conversation line numbers to texts...\n",
      "Creating exchange pairs\n",
      "('can we make this quick roxanne korrine and andrew barrett are having an incredibly horrendous public break up on the quad again ', 'well i thought we d start with pronunciation if that s okay with you ')\n",
      "('well i thought we d start with pronunciation if that s okay with you ', 'not the hacking and gagging and spitting part please ')\n",
      "('not the hacking and gagging and spitting part please ', 'okay then how bout we try out some french cuisine saturday night ')\n",
      "('you re asking me out that s so cute what s your name again ', 'forget it ')\n",
      "('no no it s my fault we didn t have a proper introduction ', 'cameron ')\n",
      "('cameron ', 'the thing is cameron i m at the mercy of a particularly hideous breed of loser my sister i can t date until she does ')\n",
      "('the thing is cameron i m at the mercy of a particularly hideous breed of loser my sister i can t date until she does ', 'seems like she could get a date easy enough ')\n",
      "('why ', 'unsolved mystery she used to be really popular when she started high school then it was just like she got sick of it or something ')\n",
      "('unsolved mystery she used to be really popular when she started high school then it was just like she got sick of it or something ', 'that s a shame ')\n",
      "('gosh if only we could find kat a boyfriend ', 'let me see what i can do ')\n"
     ]
    }
   ],
   "source": [
    "cornell_corpus = CornellMovieCorpus()"
   ]
  },
  {
   "cell_type": "markdown",
   "id": "7bdee165-0686-4d27-ae09-10a55d8010fc",
   "metadata": {},
   "source": [
    "<h2>Let's look at some data</h2>"
   ]
  },
  {
   "cell_type": "code",
   "execution_count": 4,
   "id": "3dc7982e-be6e-44cc-b844-af30a8872892",
   "metadata": {},
   "outputs": [
    {
     "name": "stdout",
     "output_type": "stream",
     "text": [
      "['L1045', 'u0', 'm0', 'BIANCA', 'They do not!\\n']\n",
      "['L1044', 'u2', 'm0', 'CAMERON', 'They do to!\\n']\n",
      "['L985', 'u0', 'm0', 'BIANCA', 'I hope so.\\n']\n",
      "['L984', 'u2', 'm0', 'CAMERON', 'She okay?\\n']\n",
      "['L925', 'u0', 'm0', 'BIANCA', \"Let's go.\\n\"]\n",
      "['L924', 'u2', 'm0', 'CAMERON', 'Wow\\n']\n",
      "['L872', 'u0', 'm0', 'BIANCA', \"Okay -- you're gonna need to learn how to lie.\\n\"]\n",
      "['L871', 'u2', 'm0', 'CAMERON', 'No\\n']\n",
      "['L870', 'u0', 'm0', 'BIANCA', 'I\\'m kidding.  You know how sometimes you just become this \"persona\"?  And you don\\'t know how to quit?\\n']\n",
      "['L869', 'u0', 'm0', 'BIANCA', 'Like my fear of wearing pastels?\\n']\n",
      "['u0', 'u2', 'm0', \"['L194', 'L195', 'L196', 'L197']\"]\n",
      "['u0', 'u2', 'm0', \"['L198', 'L199']\"]\n",
      "['u0', 'u2', 'm0', \"['L200', 'L201', 'L202', 'L203']\"]\n",
      "['u0', 'u2', 'm0', \"['L204', 'L205', 'L206']\"]\n",
      "['u0', 'u2', 'm0', \"['L207', 'L208']\"]\n",
      "['u0', 'u2', 'm0', \"['L271', 'L272', 'L273', 'L274', 'L275']\"]\n",
      "['u0', 'u2', 'm0', \"['L276', 'L277']\"]\n",
      "['u0', 'u2', 'm0', \"['L280', 'L281']\"]\n",
      "['u0', 'u2', 'm0', \"['L363', 'L364']\"]\n",
      "['u0', 'u2', 'm0', \"['L365', 'L366']\"]\n",
      "('can we make this quick roxanne korrine and andrew barrett are having an incredibly horrendous public break up on the quad again ', 'well i thought we d start with pronunciation if that s okay with you ')\n",
      "('well i thought we d start with pronunciation if that s okay with you ', 'not the hacking and gagging and spitting part please ')\n",
      "('not the hacking and gagging and spitting part please ', 'okay then how bout we try out some french cuisine saturday night ')\n",
      "('you re asking me out that s so cute what s your name again ', 'forget it ')\n",
      "('no no it s my fault we didn t have a proper introduction ', 'cameron ')\n",
      "('cameron ', 'the thing is cameron i m at the mercy of a particularly hideous breed of loser my sister i can t date until she does ')\n",
      "('the thing is cameron i m at the mercy of a particularly hideous breed of loser my sister i can t date until she does ', 'seems like she could get a date easy enough ')\n",
      "('why ', 'unsolved mystery she used to be really popular when she started high school then it was just like she got sick of it or something ')\n",
      "('unsolved mystery she used to be really popular when she started high school then it was just like she got sick of it or something ', 'that s a shame ')\n",
      "('gosh if only we could find kat a boyfriend ', 'let me see what i can do ')\n",
      "L1045\n"
     ]
    }
   ],
   "source": [
    "for i in range(10):\n",
    "    print(cornell_corpus.movie_lines[i])\n",
    "    \n",
    "for i in range(10):\n",
    "    print(cornell_corpus.movie_convos[i])\n",
    "\n",
    "for i in range(10):\n",
    "    print(cornell_corpus.movie_exchange_pairs[i])\n",
    "\n",
    "for utr in cornell_corpus.movie_utterances.keys():\n",
    "    print(utr)\n",
    "    break"
   ]
  },
  {
   "cell_type": "markdown",
   "id": "bcd0ca75-5730-47a7-ae58-410f57417655",
   "metadata": {},
   "source": [
    "<h2>Let's look at the data</h2>"
   ]
  },
  {
   "cell_type": "markdown",
   "id": "c70c60ba-6b27-4312-b169-13e186ece9a7",
   "metadata": {},
   "source": [
    "<h2>Create the vocabulary</h2>"
   ]
  },
  {
   "cell_type": "code",
   "execution_count": 5,
   "id": "41a0ab0d-7fd8-462b-aed4-bcc07a84ad42",
   "metadata": {},
   "outputs": [
    {
     "name": "stdout",
     "output_type": "stream",
     "text": [
      "Creating vocabulary...\n"
     ]
    }
   ],
   "source": [
    "cornell_corpus.create_vocabulary()"
   ]
  },
  {
   "cell_type": "code",
   "execution_count": 8,
   "id": "87e8ab4a-d9cf-4e9a-b034-40905c77a840",
   "metadata": {},
   "outputs": [
    {
     "name": "stdout",
     "output_type": "stream",
     "text": [
      "49045 [(0, 'they'), (1, 'do'), (2, 'not'), (3, 'to'), (4, 'i'), (5, 'hope'), (6, 'so'), (7, 'she'), (8, 'okay'), (9, 'let')]\n"
     ]
    }
   ],
   "source": [
    "# for i in range(len(cornell_corpus.vocabulary)):\n",
    "#     cornell_corpus.vocabulary[i] = (i,cornell_corpus.vocabulary[i])\n",
    "print(len(cornell_corpus.vocabulary),cornell_corpus.vocabulary[0:10])"
   ]
  },
  {
   "cell_type": "code",
   "execution_count": null,
   "id": "3bc19ace-8021-4dab-bdec-6c7a12eaddb0",
   "metadata": {},
   "outputs": [],
   "source": []
  }
 ],
 "metadata": {
  "kernelspec": {
   "display_name": "Python 3 (ipykernel)",
   "language": "python",
   "name": "python3"
  },
  "language_info": {
   "codemirror_mode": {
    "name": "ipython",
    "version": 3
   },
   "file_extension": ".py",
   "mimetype": "text/x-python",
   "name": "python",
   "nbconvert_exporter": "python",
   "pygments_lexer": "ipython3",
   "version": "3.9.13"
  }
 },
 "nbformat": 4,
 "nbformat_minor": 5
}
